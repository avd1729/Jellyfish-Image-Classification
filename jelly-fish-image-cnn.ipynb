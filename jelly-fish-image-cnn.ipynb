{
 "cells": [
  {
   "cell_type": "code",
   "execution_count": 1,
   "id": "2ae5ccbc",
   "metadata": {
    "execution": {
     "iopub.execute_input": "2023-11-22T14:40:23.319410Z",
     "iopub.status.busy": "2023-11-22T14:40:23.318989Z",
     "iopub.status.idle": "2023-11-22T14:40:23.330930Z",
     "shell.execute_reply": "2023-11-22T14:40:23.330129Z"
    },
    "papermill": {
     "duration": 0.022867,
     "end_time": "2023-11-22T14:40:23.333312",
     "exception": false,
     "start_time": "2023-11-22T14:40:23.310445",
     "status": "completed"
    },
    "tags": []
   },
   "outputs": [],
   "source": [
    "import warnings\n",
    "warnings.filterwarnings('ignore')"
   ]
  },
  {
   "cell_type": "code",
   "execution_count": 2,
   "id": "283ab528",
   "metadata": {
    "execution": {
     "iopub.execute_input": "2023-11-22T14:40:23.352742Z",
     "iopub.status.busy": "2023-11-22T14:40:23.352482Z",
     "iopub.status.idle": "2023-11-22T14:40:37.372001Z",
     "shell.execute_reply": "2023-11-22T14:40:37.371057Z"
    },
    "papermill": {
     "duration": 14.031579,
     "end_time": "2023-11-22T14:40:37.374255",
     "exception": false,
     "start_time": "2023-11-22T14:40:23.342676",
     "status": "completed"
    },
    "tags": []
   },
   "outputs": [],
   "source": [
    "import numpy as np\n",
    "import pandas as pd\n",
    "import tensorflow as tf"
   ]
  },
  {
   "cell_type": "code",
   "execution_count": 3,
   "id": "6eb1b001",
   "metadata": {
    "execution": {
     "iopub.execute_input": "2023-11-22T14:40:37.388385Z",
     "iopub.status.busy": "2023-11-22T14:40:37.387802Z",
     "iopub.status.idle": "2023-11-22T14:40:37.392057Z",
     "shell.execute_reply": "2023-11-22T14:40:37.391184Z"
    },
    "papermill": {
     "duration": 0.013164,
     "end_time": "2023-11-22T14:40:37.393825",
     "exception": false,
     "start_time": "2023-11-22T14:40:37.380661",
     "status": "completed"
    },
    "tags": []
   },
   "outputs": [],
   "source": [
    "import pathlib\n",
    "url = f\"/kaggle/input/jellyfish-types\""
   ]
  },
  {
   "cell_type": "code",
   "execution_count": 4,
   "id": "881fc70c",
   "metadata": {
    "execution": {
     "iopub.execute_input": "2023-11-22T14:40:37.407239Z",
     "iopub.status.busy": "2023-11-22T14:40:37.406968Z",
     "iopub.status.idle": "2023-11-22T14:40:37.410711Z",
     "shell.execute_reply": "2023-11-22T14:40:37.409902Z"
    },
    "papermill": {
     "duration": 0.01254,
     "end_time": "2023-11-22T14:40:37.412604",
     "exception": false,
     "start_time": "2023-11-22T14:40:37.400064",
     "status": "completed"
    },
    "tags": []
   },
   "outputs": [],
   "source": [
    "data = pathlib.Path(url)"
   ]
  },
  {
   "cell_type": "code",
   "execution_count": 5,
   "id": "b08b4a2d",
   "metadata": {
    "execution": {
     "iopub.execute_input": "2023-11-22T14:40:37.426298Z",
     "iopub.status.busy": "2023-11-22T14:40:37.425732Z",
     "iopub.status.idle": "2023-11-22T14:40:37.432896Z",
     "shell.execute_reply": "2023-11-22T14:40:37.432115Z"
    },
    "papermill": {
     "duration": 0.016129,
     "end_time": "2023-11-22T14:40:37.434885",
     "exception": false,
     "start_time": "2023-11-22T14:40:37.418756",
     "status": "completed"
    },
    "tags": []
   },
   "outputs": [
    {
     "data": {
      "text/plain": [
       "PosixPath('/kaggle/input/jellyfish-types')"
      ]
     },
     "execution_count": 5,
     "metadata": {},
     "output_type": "execute_result"
    }
   ],
   "source": [
    "data"
   ]
  },
  {
   "cell_type": "code",
   "execution_count": 6,
   "id": "d509f2c3",
   "metadata": {
    "execution": {
     "iopub.execute_input": "2023-11-22T14:40:37.448676Z",
     "iopub.status.busy": "2023-11-22T14:40:37.448360Z",
     "iopub.status.idle": "2023-11-22T14:40:37.719326Z",
     "shell.execute_reply": "2023-11-22T14:40:37.718525Z"
    },
    "papermill": {
     "duration": 0.280449,
     "end_time": "2023-11-22T14:40:37.721608",
     "exception": false,
     "start_time": "2023-11-22T14:40:37.441159",
     "status": "completed"
    },
    "tags": []
   },
   "outputs": [],
   "source": [
    "fish = {\n",
    "    \"Moon_jellyfish\": list(data.glob('Moon_jellyfish/*.jpg')),\n",
    "    \"barrel_jellyfish\": list(data.glob('barrel_jellyfish/*.jpg')),\n",
    "    \"blue_jellyfish\": list(data.glob('blue_jellyfish/*.jpg')),\n",
    "    \"compass_jellyfish\" : list(data.glob('compass_jellyfish/*.jpg')),  \n",
    "    \"lions_mane_jellyfish\" : list(data.glob('lions_mane_jellyfish/*.jpg')),\n",
    "    \"mauve_stinger_jellyfish\" : list(data.glob('mauve_stinger_jellyfish/*.jpg'))\n",
    "}"
   ]
  },
  {
   "cell_type": "code",
   "execution_count": 7,
   "id": "484c06b2",
   "metadata": {
    "execution": {
     "iopub.execute_input": "2023-11-22T14:40:37.735895Z",
     "iopub.status.busy": "2023-11-22T14:40:37.735573Z",
     "iopub.status.idle": "2023-11-22T14:40:37.740005Z",
     "shell.execute_reply": "2023-11-22T14:40:37.739180Z"
    },
    "papermill": {
     "duration": 0.013547,
     "end_time": "2023-11-22T14:40:37.741848",
     "exception": false,
     "start_time": "2023-11-22T14:40:37.728301",
     "status": "completed"
    },
    "tags": []
   },
   "outputs": [],
   "source": [
    "labels = {\n",
    "    \"barrel_jellyfish\" : 0,\n",
    "    \"blue_jellyfish\":1,\n",
    "    \"compass_jellyfish\":2,\n",
    "    \"lions_mane_jellyfish\":3,\n",
    "    \"mauve_stinger_jellyfish\":4,\n",
    "    \"Moon_jellyfish\":5\n",
    "}"
   ]
  },
  {
   "cell_type": "code",
   "execution_count": 8,
   "id": "38e5b754",
   "metadata": {
    "execution": {
     "iopub.execute_input": "2023-11-22T14:40:37.755590Z",
     "iopub.status.busy": "2023-11-22T14:40:37.755324Z",
     "iopub.status.idle": "2023-11-22T14:40:37.759160Z",
     "shell.execute_reply": "2023-11-22T14:40:37.758433Z"
    },
    "papermill": {
     "duration": 0.012937,
     "end_time": "2023-11-22T14:40:37.761147",
     "exception": false,
     "start_time": "2023-11-22T14:40:37.748210",
     "status": "completed"
    },
    "tags": []
   },
   "outputs": [],
   "source": [
    "X=[]\n",
    "y=[]"
   ]
  },
  {
   "cell_type": "code",
   "execution_count": 9,
   "id": "729a58c2",
   "metadata": {
    "execution": {
     "iopub.execute_input": "2023-11-22T14:40:37.774691Z",
     "iopub.status.busy": "2023-11-22T14:40:37.774430Z",
     "iopub.status.idle": "2023-11-22T14:40:43.857505Z",
     "shell.execute_reply": "2023-11-22T14:40:43.856659Z"
    },
    "papermill": {
     "duration": 6.092538,
     "end_time": "2023-11-22T14:40:43.859885",
     "exception": false,
     "start_time": "2023-11-22T14:40:37.767347",
     "status": "completed"
    },
    "tags": []
   },
   "outputs": [],
   "source": [
    "import cv2\n",
    "\n",
    "for name, images in fish.items():\n",
    "    for image in images:\n",
    "        try:\n",
    "            image = str(image).strip()\n",
    "            img = cv2.imread(image)\n",
    "            if img is not None:\n",
    "                img_resize = cv2.resize(img,(224,224))\n",
    "                X.append(img_resize)\n",
    "                y.append(labels[name]) \n",
    "            else :\n",
    "                pass\n",
    "        except Exception as e:\n",
    "            pass"
   ]
  },
  {
   "cell_type": "code",
   "execution_count": 10,
   "id": "71387a74",
   "metadata": {
    "execution": {
     "iopub.execute_input": "2023-11-22T14:40:43.874352Z",
     "iopub.status.busy": "2023-11-22T14:40:43.874083Z",
     "iopub.status.idle": "2023-11-22T14:40:43.919317Z",
     "shell.execute_reply": "2023-11-22T14:40:43.918234Z"
    },
    "papermill": {
     "duration": 0.05491,
     "end_time": "2023-11-22T14:40:43.921674",
     "exception": false,
     "start_time": "2023-11-22T14:40:43.866764",
     "status": "completed"
    },
    "tags": []
   },
   "outputs": [],
   "source": [
    "X = np.array(X)\n",
    "y = np.array(y)"
   ]
  },
  {
   "cell_type": "code",
   "execution_count": 11,
   "id": "e8c1e980",
   "metadata": {
    "execution": {
     "iopub.execute_input": "2023-11-22T14:40:43.936302Z",
     "iopub.status.busy": "2023-11-22T14:40:43.935998Z",
     "iopub.status.idle": "2023-11-22T14:40:43.941664Z",
     "shell.execute_reply": "2023-11-22T14:40:43.940896Z"
    },
    "papermill": {
     "duration": 0.015074,
     "end_time": "2023-11-22T14:40:43.943562",
     "exception": false,
     "start_time": "2023-11-22T14:40:43.928488",
     "status": "completed"
    },
    "tags": []
   },
   "outputs": [
    {
     "data": {
      "text/plain": [
       "(853, 224, 224, 3)"
      ]
     },
     "execution_count": 11,
     "metadata": {},
     "output_type": "execute_result"
    }
   ],
   "source": [
    "X.shape"
   ]
  },
  {
   "cell_type": "code",
   "execution_count": 12,
   "id": "5bb7339a",
   "metadata": {
    "execution": {
     "iopub.execute_input": "2023-11-22T14:40:43.957502Z",
     "iopub.status.busy": "2023-11-22T14:40:43.957262Z",
     "iopub.status.idle": "2023-11-22T14:40:43.962350Z",
     "shell.execute_reply": "2023-11-22T14:40:43.961531Z"
    },
    "papermill": {
     "duration": 0.014044,
     "end_time": "2023-11-22T14:40:43.964184",
     "exception": false,
     "start_time": "2023-11-22T14:40:43.950140",
     "status": "completed"
    },
    "tags": []
   },
   "outputs": [
    {
     "data": {
      "text/plain": [
       "(853,)"
      ]
     },
     "execution_count": 12,
     "metadata": {},
     "output_type": "execute_result"
    }
   ],
   "source": [
    "y.shape"
   ]
  },
  {
   "cell_type": "code",
   "execution_count": 13,
   "id": "66e72550",
   "metadata": {
    "execution": {
     "iopub.execute_input": "2023-11-22T14:40:43.978710Z",
     "iopub.status.busy": "2023-11-22T14:40:43.978468Z",
     "iopub.status.idle": "2023-11-22T14:40:44.657536Z",
     "shell.execute_reply": "2023-11-22T14:40:44.656736Z"
    },
    "papermill": {
     "duration": 0.688949,
     "end_time": "2023-11-22T14:40:44.659870",
     "exception": false,
     "start_time": "2023-11-22T14:40:43.970921",
     "status": "completed"
    },
    "tags": []
   },
   "outputs": [],
   "source": [
    "from sklearn.utils import shuffle\n",
    "X, y = shuffle(X, y)"
   ]
  },
  {
   "cell_type": "code",
   "execution_count": 14,
   "id": "de8e2345",
   "metadata": {
    "execution": {
     "iopub.execute_input": "2023-11-22T14:40:44.674754Z",
     "iopub.status.busy": "2023-11-22T14:40:44.674471Z",
     "iopub.status.idle": "2023-11-22T14:40:45.020720Z",
     "shell.execute_reply": "2023-11-22T14:40:45.019905Z"
    },
    "papermill": {
     "duration": 0.356215,
     "end_time": "2023-11-22T14:40:45.023153",
     "exception": false,
     "start_time": "2023-11-22T14:40:44.666938",
     "status": "completed"
    },
    "tags": []
   },
   "outputs": [],
   "source": [
    "from sklearn.model_selection import train_test_split\n",
    "X_train , X_valid , y_train , y_valid = train_test_split(X,y,test_size=0.2,random_state=42)"
   ]
  },
  {
   "cell_type": "code",
   "execution_count": 15,
   "id": "916371ae",
   "metadata": {
    "execution": {
     "iopub.execute_input": "2023-11-22T14:40:45.038228Z",
     "iopub.status.busy": "2023-11-22T14:40:45.037932Z",
     "iopub.status.idle": "2023-11-22T14:40:49.643657Z",
     "shell.execute_reply": "2023-11-22T14:40:49.642890Z"
    },
    "papermill": {
     "duration": 4.615863,
     "end_time": "2023-11-22T14:40:49.646031",
     "exception": false,
     "start_time": "2023-11-22T14:40:45.030168",
     "status": "completed"
    },
    "tags": []
   },
   "outputs": [],
   "source": [
    "tf.random.set_seed(42)\n",
    "tf.keras.backend.clear_session()\n",
    "\n",
    "from functools import partial\n",
    "\n",
    "DefaultConv2D = partial(tf.keras.layers.Conv2D, kernel_size=3, padding=\"same\",\n",
    "                        activation=\"relu\", kernel_initializer=\"he_normal\")\n",
    "model1 = tf.keras.Sequential([\n",
    "    DefaultConv2D(filters=64, kernel_size=7, input_shape=[224, 224, 3]),\n",
    "    tf.keras.layers.MaxPool2D(),\n",
    "    DefaultConv2D(filters=128),\n",
    "    DefaultConv2D(filters=128),\n",
    "    tf.keras.layers.MaxPool2D(),\n",
    "    DefaultConv2D(filters=256),\n",
    "    DefaultConv2D(filters=256),\n",
    "    tf.keras.layers.MaxPool2D(),\n",
    "    tf.keras.layers.Flatten(),\n",
    "    tf.keras.layers.Dense(units=128, activation=\"relu\",\n",
    "                          kernel_initializer=\"he_normal\"),\n",
    "    tf.keras.layers.Dropout(0.5),\n",
    "    tf.keras.layers.Dense(units=64, activation=\"relu\",\n",
    "                          kernel_initializer=\"he_normal\"),\n",
    "    tf.keras.layers.Dropout(0.5),\n",
    "    tf.keras.layers.Dense(units=6, activation=\"softmax\")\n",
    "])"
   ]
  },
  {
   "cell_type": "code",
   "execution_count": 16,
   "id": "5e01016f",
   "metadata": {
    "execution": {
     "iopub.execute_input": "2023-11-22T14:40:49.661135Z",
     "iopub.status.busy": "2023-11-22T14:40:49.660793Z",
     "iopub.status.idle": "2023-11-22T14:40:49.700145Z",
     "shell.execute_reply": "2023-11-22T14:40:49.699241Z"
    },
    "papermill": {
     "duration": 0.059463,
     "end_time": "2023-11-22T14:40:49.712503",
     "exception": false,
     "start_time": "2023-11-22T14:40:49.653040",
     "status": "completed"
    },
    "tags": []
   },
   "outputs": [
    {
     "name": "stdout",
     "output_type": "stream",
     "text": [
      "Model: \"sequential\"\n",
      "_________________________________________________________________\n",
      " Layer (type)                Output Shape              Param #   \n",
      "=================================================================\n",
      " conv2d (Conv2D)             (None, 224, 224, 64)      9472      \n",
      "                                                                 \n",
      " max_pooling2d (MaxPooling2  (None, 112, 112, 64)      0         \n",
      " D)                                                              \n",
      "                                                                 \n",
      " conv2d_1 (Conv2D)           (None, 112, 112, 128)     73856     \n",
      "                                                                 \n",
      " conv2d_2 (Conv2D)           (None, 112, 112, 128)     147584    \n",
      "                                                                 \n",
      " max_pooling2d_1 (MaxPoolin  (None, 56, 56, 128)       0         \n",
      " g2D)                                                            \n",
      "                                                                 \n",
      " conv2d_3 (Conv2D)           (None, 56, 56, 256)       295168    \n",
      "                                                                 \n",
      " conv2d_4 (Conv2D)           (None, 56, 56, 256)       590080    \n",
      "                                                                 \n",
      " max_pooling2d_2 (MaxPoolin  (None, 28, 28, 256)       0         \n",
      " g2D)                                                            \n",
      "                                                                 \n",
      " flatten (Flatten)           (None, 200704)            0         \n",
      "                                                                 \n",
      " dense (Dense)               (None, 128)               25690240  \n",
      "                                                                 \n",
      " dropout (Dropout)           (None, 128)               0         \n",
      "                                                                 \n",
      " dense_1 (Dense)             (None, 64)                8256      \n",
      "                                                                 \n",
      " dropout_1 (Dropout)         (None, 64)                0         \n",
      "                                                                 \n",
      " dense_2 (Dense)             (None, 6)                 390       \n",
      "                                                                 \n",
      "=================================================================\n",
      "Total params: 26815046 (102.29 MB)\n",
      "Trainable params: 26815046 (102.29 MB)\n",
      "Non-trainable params: 0 (0.00 Byte)\n",
      "_________________________________________________________________\n"
     ]
    }
   ],
   "source": [
    "model1.summary()"
   ]
  },
  {
   "cell_type": "code",
   "execution_count": 17,
   "id": "ab4e1118",
   "metadata": {
    "execution": {
     "iopub.execute_input": "2023-11-22T14:40:49.733698Z",
     "iopub.status.busy": "2023-11-22T14:40:49.733148Z",
     "iopub.status.idle": "2023-11-22T14:42:51.688904Z",
     "shell.execute_reply": "2023-11-22T14:42:51.687886Z"
    },
    "papermill": {
     "duration": 122.012217,
     "end_time": "2023-11-22T14:42:51.734270",
     "exception": false,
     "start_time": "2023-11-22T14:40:49.722053",
     "status": "completed"
    },
    "tags": []
   },
   "outputs": [
    {
     "name": "stdout",
     "output_type": "stream",
     "text": [
      "Epoch 1/50\n",
      "22/22 [==============================] - 27s 398ms/step - loss: 572.9877 - accuracy: 0.1466 - val_loss: 1.7672 - val_accuracy: 0.1988\n",
      "Epoch 2/50\n",
      "22/22 [==============================] - 5s 236ms/step - loss: 1.7944 - accuracy: 0.1745 - val_loss: 1.7652 - val_accuracy: 0.2573\n",
      "Epoch 3/50\n",
      "22/22 [==============================] - 6s 254ms/step - loss: 1.7647 - accuracy: 0.2053 - val_loss: 1.7230 - val_accuracy: 0.1754\n",
      "Epoch 4/50\n",
      "22/22 [==============================] - 5s 236ms/step - loss: 1.7619 - accuracy: 0.2067 - val_loss: 1.7211 - val_accuracy: 0.2339\n",
      "Epoch 5/50\n",
      "22/22 [==============================] - 6s 269ms/step - loss: 1.7582 - accuracy: 0.2126 - val_loss: 1.7274 - val_accuracy: 0.2456\n",
      "Epoch 6/50\n",
      "22/22 [==============================] - 5s 251ms/step - loss: 1.7569 - accuracy: 0.2097 - val_loss: 1.6964 - val_accuracy: 0.2339\n",
      "Epoch 7/50\n",
      "22/22 [==============================] - 6s 274ms/step - loss: 1.7357 - accuracy: 0.1891 - val_loss: 1.6946 - val_accuracy: 0.2222\n",
      "Epoch 8/50\n",
      "22/22 [==============================] - 6s 265ms/step - loss: 1.7270 - accuracy: 0.2302 - val_loss: 1.6721 - val_accuracy: 0.2222\n",
      "Epoch 9/50\n",
      "22/22 [==============================] - 6s 272ms/step - loss: 1.7395 - accuracy: 0.2522 - val_loss: 1.7426 - val_accuracy: 0.2515\n",
      "Epoch 10/50\n",
      "22/22 [==============================] - 5s 233ms/step - loss: 1.7633 - accuracy: 0.2331 - val_loss: 1.7160 - val_accuracy: 0.1813\n",
      "Epoch 11/50\n",
      "22/22 [==============================] - 6s 273ms/step - loss: 1.7287 - accuracy: 0.2331 - val_loss: 1.7211 - val_accuracy: 0.1637\n",
      "Epoch 12/50\n",
      "22/22 [==============================] - 5s 232ms/step - loss: 1.6700 - accuracy: 0.2771 - val_loss: 1.7262 - val_accuracy: 0.2573\n",
      "Epoch 13/50\n",
      "22/22 [==============================] - 6s 273ms/step - loss: 1.6774 - accuracy: 0.2713 - val_loss: 1.6831 - val_accuracy: 0.1988\n",
      "Epoch 14/50\n",
      "22/22 [==============================] - 5s 242ms/step - loss: 1.6834 - accuracy: 0.2771 - val_loss: 1.7228 - val_accuracy: 0.2515\n",
      "Epoch 15/50\n",
      "22/22 [==============================] - 6s 260ms/step - loss: 1.6558 - accuracy: 0.3021 - val_loss: 1.6930 - val_accuracy: 0.2456\n",
      "Epoch 16/50\n",
      "22/22 [==============================] - 5s 237ms/step - loss: 1.6311 - accuracy: 0.2830 - val_loss: 1.6889 - val_accuracy: 0.2456\n",
      "Epoch 17/50\n",
      "22/22 [==============================] - 6s 277ms/step - loss: 1.6155 - accuracy: 0.2889 - val_loss: 1.7210 - val_accuracy: 0.2281\n",
      "Epoch 18/50\n",
      "22/22 [==============================] - 5s 246ms/step - loss: 1.5622 - accuracy: 0.3226 - val_loss: 1.8202 - val_accuracy: 0.2515\n"
     ]
    }
   ],
   "source": [
    "checkpoint_1 = tf.keras.callbacks.ModelCheckpoint(\"checkpoints_1\",save_weights_only=True)\n",
    "early_stopping = tf.keras.callbacks.EarlyStopping(patience=10,restore_best_weights=True)\n",
    "model1.compile(loss=\"sparse_categorical_crossentropy\", optimizer=\"nadam\",\n",
    "              metrics=[\"accuracy\"])\n",
    "history = model1.fit(X_train, y_train, epochs=50,\n",
    "                    validation_data=(X_valid, y_valid),callbacks=[checkpoint_1,early_stopping])"
   ]
  },
  {
   "cell_type": "code",
   "execution_count": 18,
   "id": "44af8b8e",
   "metadata": {
    "execution": {
     "iopub.execute_input": "2023-11-22T14:42:51.824786Z",
     "iopub.status.busy": "2023-11-22T14:42:51.824457Z",
     "iopub.status.idle": "2023-11-22T14:42:51.833725Z",
     "shell.execute_reply": "2023-11-22T14:42:51.832846Z"
    },
    "papermill": {
     "duration": 0.05734,
     "end_time": "2023-11-22T14:42:51.835909",
     "exception": false,
     "start_time": "2023-11-22T14:42:51.778569",
     "status": "completed"
    },
    "tags": []
   },
   "outputs": [],
   "source": [
    "DefaultConv2D = partial(tf.keras.layers.Conv2D, kernel_size=3, strides=1,\n",
    "                        padding=\"same\", kernel_initializer=\"he_normal\",\n",
    "                        use_bias=False)\n",
    "\n",
    "class ResidualUnit(tf.keras.layers.Layer):\n",
    "    def __init__(self, filters, strides=1, activation=\"relu\", **kwargs):\n",
    "        super().__init__(**kwargs)\n",
    "        self.activation = tf.keras.activations.get(activation)\n",
    "        self.main_layers = [\n",
    "            DefaultConv2D(filters, strides=strides),\n",
    "            tf.keras.layers.BatchNormalization(),\n",
    "            self.activation,\n",
    "            DefaultConv2D(filters),\n",
    "            tf.keras.layers.BatchNormalization()\n",
    "        ]\n",
    "        self.skip_layers = []\n",
    "        if strides > 1:\n",
    "            self.skip_layers = [\n",
    "                DefaultConv2D(filters, kernel_size=1, strides=strides),\n",
    "                tf.keras.layers.BatchNormalization()\n",
    "            ]\n",
    "\n",
    "    def call(self, inputs):\n",
    "        Z = inputs\n",
    "        for layer in self.main_layers:\n",
    "            Z = layer(Z)\n",
    "        skip_Z = inputs\n",
    "        for layer in self.skip_layers:\n",
    "            skip_Z = layer(skip_Z)\n",
    "        return self.activation(Z + skip_Z)"
   ]
  },
  {
   "cell_type": "code",
   "execution_count": 19,
   "id": "64e929c6",
   "metadata": {
    "execution": {
     "iopub.execute_input": "2023-11-22T14:42:51.972228Z",
     "iopub.status.busy": "2023-11-22T14:42:51.971390Z",
     "iopub.status.idle": "2023-11-22T14:42:52.798939Z",
     "shell.execute_reply": "2023-11-22T14:42:52.798076Z"
    },
    "papermill": {
     "duration": 0.919903,
     "end_time": "2023-11-22T14:42:52.801235",
     "exception": false,
     "start_time": "2023-11-22T14:42:51.881332",
     "status": "completed"
    },
    "tags": []
   },
   "outputs": [],
   "source": [
    "tf.random.set_seed(42)\n",
    "tf.keras.backend.clear_session()\n",
    "\n",
    "model2 = tf.keras.Sequential([\n",
    "    DefaultConv2D(64, kernel_size=7, strides=2, input_shape=[224, 224, 3]),\n",
    "    tf.keras.layers.BatchNormalization(),\n",
    "    tf.keras.layers.Activation(\"relu\"),\n",
    "    tf.keras.layers.MaxPool2D(pool_size=3, strides=2, padding=\"same\"),\n",
    "])\n",
    "prev_filters = 64\n",
    "for filters in [64] * 3 + [128] * 4 + [256] * 6 + [512] * 3:\n",
    "    strides = 1 if filters == prev_filters else 2\n",
    "    model2.add(ResidualUnit(filters, strides=strides))\n",
    "    prev_filters = filters\n",
    "\n",
    "model2.add(tf.keras.layers.GlobalAvgPool2D())\n",
    "model2.add(tf.keras.layers.Flatten())\n",
    "model2.add(tf.keras.layers.Dense(6, activation=\"softmax\"))"
   ]
  },
  {
   "cell_type": "code",
   "execution_count": 20,
   "id": "947978da",
   "metadata": {
    "execution": {
     "iopub.execute_input": "2023-11-22T14:42:52.893177Z",
     "iopub.status.busy": "2023-11-22T14:42:52.892492Z",
     "iopub.status.idle": "2023-11-22T14:42:52.978569Z",
     "shell.execute_reply": "2023-11-22T14:42:52.977663Z"
    },
    "papermill": {
     "duration": 0.136674,
     "end_time": "2023-11-22T14:42:52.982705",
     "exception": false,
     "start_time": "2023-11-22T14:42:52.846031",
     "status": "completed"
    },
    "tags": []
   },
   "outputs": [
    {
     "name": "stdout",
     "output_type": "stream",
     "text": [
      "Model: \"sequential\"\n",
      "_________________________________________________________________\n",
      " Layer (type)                Output Shape              Param #   \n",
      "=================================================================\n",
      " conv2d (Conv2D)             (None, 112, 112, 64)      9408      \n",
      "                                                                 \n",
      " batch_normalization (Batch  (None, 112, 112, 64)      256       \n",
      " Normalization)                                                  \n",
      "                                                                 \n",
      " activation (Activation)     (None, 112, 112, 64)      0         \n",
      "                                                                 \n",
      " max_pooling2d (MaxPooling2  (None, 56, 56, 64)        0         \n",
      " D)                                                              \n",
      "                                                                 \n",
      " residual_unit (ResidualUni  (None, 56, 56, 64)        74240     \n",
      " t)                                                              \n",
      "                                                                 \n",
      " residual_unit_1 (ResidualU  (None, 56, 56, 64)        74240     \n",
      " nit)                                                            \n",
      "                                                                 \n",
      " residual_unit_2 (ResidualU  (None, 56, 56, 64)        74240     \n",
      " nit)                                                            \n",
      "                                                                 \n",
      " residual_unit_3 (ResidualU  (None, 28, 28, 128)       230912    \n",
      " nit)                                                            \n",
      "                                                                 \n",
      " residual_unit_4 (ResidualU  (None, 28, 28, 128)       295936    \n",
      " nit)                                                            \n",
      "                                                                 \n",
      " residual_unit_5 (ResidualU  (None, 28, 28, 128)       295936    \n",
      " nit)                                                            \n",
      "                                                                 \n",
      " residual_unit_6 (ResidualU  (None, 28, 28, 128)       295936    \n",
      " nit)                                                            \n",
      "                                                                 \n",
      " residual_unit_7 (ResidualU  (None, 14, 14, 256)       920576    \n",
      " nit)                                                            \n",
      "                                                                 \n",
      " residual_unit_8 (ResidualU  (None, 14, 14, 256)       1181696   \n",
      " nit)                                                            \n",
      "                                                                 \n",
      " residual_unit_9 (ResidualU  (None, 14, 14, 256)       1181696   \n",
      " nit)                                                            \n",
      "                                                                 \n",
      " residual_unit_10 (Residual  (None, 14, 14, 256)       1181696   \n",
      " Unit)                                                           \n",
      "                                                                 \n",
      " residual_unit_11 (Residual  (None, 14, 14, 256)       1181696   \n",
      " Unit)                                                           \n",
      "                                                                 \n",
      " residual_unit_12 (Residual  (None, 14, 14, 256)       1181696   \n",
      " Unit)                                                           \n",
      "                                                                 \n",
      " residual_unit_13 (Residual  (None, 7, 7, 512)         3676160   \n",
      " Unit)                                                           \n",
      "                                                                 \n",
      " residual_unit_14 (Residual  (None, 7, 7, 512)         4722688   \n",
      " Unit)                                                           \n",
      "                                                                 \n",
      " residual_unit_15 (Residual  (None, 7, 7, 512)         4722688   \n",
      " Unit)                                                           \n",
      "                                                                 \n",
      " global_average_pooling2d (  (None, 512)               0         \n",
      " GlobalAveragePooling2D)                                         \n",
      "                                                                 \n",
      " flatten (Flatten)           (None, 512)               0         \n",
      "                                                                 \n",
      " dense (Dense)               (None, 6)                 3078      \n",
      "                                                                 \n",
      "=================================================================\n",
      "Total params: 21304774 (81.27 MB)\n",
      "Trainable params: 21287750 (81.21 MB)\n",
      "Non-trainable params: 17024 (66.50 KB)\n",
      "_________________________________________________________________\n"
     ]
    }
   ],
   "source": [
    "model2.summary()"
   ]
  },
  {
   "cell_type": "code",
   "execution_count": 21,
   "id": "a7f1b8d5",
   "metadata": {
    "execution": {
     "iopub.execute_input": "2023-11-22T14:42:53.081469Z",
     "iopub.status.busy": "2023-11-22T14:42:53.081154Z",
     "iopub.status.idle": "2023-11-22T14:46:32.896734Z",
     "shell.execute_reply": "2023-11-22T14:46:32.895720Z"
    },
    "papermill": {
     "duration": 219.976957,
     "end_time": "2023-11-22T14:46:33.008248",
     "exception": false,
     "start_time": "2023-11-22T14:42:53.031291",
     "status": "completed"
    },
    "tags": []
   },
   "outputs": [
    {
     "name": "stdout",
     "output_type": "stream",
     "text": [
      "Epoch 1/50\n",
      "22/22 [==============================] - 39s 335ms/step - loss: 2.6353 - accuracy: 0.2786 - val_loss: 170372.2656 - val_accuracy: 0.1696\n",
      "Epoch 2/50\n",
      "22/22 [==============================] - 5s 238ms/step - loss: 1.4855 - accuracy: 0.4047 - val_loss: 15980.4297 - val_accuracy: 0.1696\n",
      "Epoch 3/50\n",
      "22/22 [==============================] - 5s 248ms/step - loss: 1.2837 - accuracy: 0.4956 - val_loss: 3005.9675 - val_accuracy: 0.2398\n",
      "Epoch 4/50\n",
      "22/22 [==============================] - 5s 237ms/step - loss: 1.0551 - accuracy: 0.5704 - val_loss: 60.0301 - val_accuracy: 0.1520\n",
      "Epoch 5/50\n",
      "22/22 [==============================] - 6s 269ms/step - loss: 1.0106 - accuracy: 0.6364 - val_loss: 53.1591 - val_accuracy: 0.1754\n",
      "Epoch 6/50\n",
      "22/22 [==============================] - 5s 242ms/step - loss: 0.9129 - accuracy: 0.6833 - val_loss: 36.5085 - val_accuracy: 0.3099\n",
      "Epoch 7/50\n",
      "22/22 [==============================] - 6s 254ms/step - loss: 0.8430 - accuracy: 0.6745 - val_loss: 30.4558 - val_accuracy: 0.1813\n",
      "Epoch 8/50\n",
      "22/22 [==============================] - 5s 235ms/step - loss: 0.8898 - accuracy: 0.6774 - val_loss: 32.3801 - val_accuracy: 0.2047\n",
      "Epoch 9/50\n",
      "22/22 [==============================] - 5s 244ms/step - loss: 0.7672 - accuracy: 0.7141 - val_loss: 34.6739 - val_accuracy: 0.1871\n",
      "Epoch 10/50\n",
      "22/22 [==============================] - 5s 233ms/step - loss: 0.7664 - accuracy: 0.7155 - val_loss: 13.3416 - val_accuracy: 0.2456\n",
      "Epoch 11/50\n",
      "22/22 [==============================] - 6s 279ms/step - loss: 0.5722 - accuracy: 0.7830 - val_loss: 3.4435 - val_accuracy: 0.4094\n",
      "Epoch 12/50\n",
      "22/22 [==============================] - 5s 236ms/step - loss: 0.6433 - accuracy: 0.7654 - val_loss: 7.6029 - val_accuracy: 0.2515\n",
      "Epoch 13/50\n",
      "22/22 [==============================] - 5s 238ms/step - loss: 0.5206 - accuracy: 0.8050 - val_loss: 4.0956 - val_accuracy: 0.4152\n",
      "Epoch 14/50\n",
      "22/22 [==============================] - 5s 240ms/step - loss: 0.4379 - accuracy: 0.8475 - val_loss: 3.8697 - val_accuracy: 0.4327\n",
      "Epoch 15/50\n",
      "22/22 [==============================] - 5s 241ms/step - loss: 0.4906 - accuracy: 0.8343 - val_loss: 13.5307 - val_accuracy: 0.1579\n",
      "Epoch 16/50\n",
      "22/22 [==============================] - 5s 230ms/step - loss: 0.4966 - accuracy: 0.8240 - val_loss: 8.2216 - val_accuracy: 0.2807\n",
      "Epoch 17/50\n",
      "22/22 [==============================] - 6s 266ms/step - loss: 0.3817 - accuracy: 0.8636 - val_loss: 2.1058 - val_accuracy: 0.4854\n",
      "Epoch 18/50\n",
      "22/22 [==============================] - 5s 237ms/step - loss: 0.4073 - accuracy: 0.8607 - val_loss: 7.3820 - val_accuracy: 0.3216\n",
      "Epoch 19/50\n",
      "22/22 [==============================] - 5s 246ms/step - loss: 0.3012 - accuracy: 0.8944 - val_loss: 1.3474 - val_accuracy: 0.6667\n",
      "Epoch 20/50\n",
      "22/22 [==============================] - 5s 240ms/step - loss: 0.3790 - accuracy: 0.8695 - val_loss: 13.1447 - val_accuracy: 0.2632\n",
      "Epoch 21/50\n",
      "22/22 [==============================] - 5s 242ms/step - loss: 0.3745 - accuracy: 0.8592 - val_loss: 3.1284 - val_accuracy: 0.4620\n",
      "Epoch 22/50\n",
      "22/22 [==============================] - 5s 232ms/step - loss: 0.3219 - accuracy: 0.8944 - val_loss: 3.3370 - val_accuracy: 0.4035\n",
      "Epoch 23/50\n",
      "22/22 [==============================] - 6s 264ms/step - loss: 0.3701 - accuracy: 0.8680 - val_loss: 3.5156 - val_accuracy: 0.4094\n",
      "Epoch 24/50\n",
      "22/22 [==============================] - 5s 236ms/step - loss: 0.2714 - accuracy: 0.9091 - val_loss: 2.0703 - val_accuracy: 0.5614\n",
      "Epoch 25/50\n",
      "22/22 [==============================] - 5s 251ms/step - loss: 0.3706 - accuracy: 0.8783 - val_loss: 1.3336 - val_accuracy: 0.6433\n",
      "Epoch 26/50\n",
      "22/22 [==============================] - 5s 237ms/step - loss: 0.1599 - accuracy: 0.9531 - val_loss: 2.0843 - val_accuracy: 0.6257\n",
      "Epoch 27/50\n",
      "22/22 [==============================] - 5s 237ms/step - loss: 0.1161 - accuracy: 0.9663 - val_loss: 1.5019 - val_accuracy: 0.7135\n",
      "Epoch 28/50\n",
      "22/22 [==============================] - 5s 229ms/step - loss: 0.1785 - accuracy: 0.9472 - val_loss: 2.0675 - val_accuracy: 0.6374\n",
      "Epoch 29/50\n",
      "22/22 [==============================] - 6s 260ms/step - loss: 0.2044 - accuracy: 0.9370 - val_loss: 2.9420 - val_accuracy: 0.5146\n",
      "Epoch 30/50\n",
      "22/22 [==============================] - 5s 239ms/step - loss: 0.1879 - accuracy: 0.9370 - val_loss: 2.5052 - val_accuracy: 0.5556\n",
      "Epoch 31/50\n",
      "22/22 [==============================] - 5s 238ms/step - loss: 0.1267 - accuracy: 0.9619 - val_loss: 1.6494 - val_accuracy: 0.6433\n",
      "Epoch 32/50\n",
      "22/22 [==============================] - 5s 239ms/step - loss: 0.2535 - accuracy: 0.9076 - val_loss: 2.9879 - val_accuracy: 0.5614\n",
      "Epoch 33/50\n",
      "22/22 [==============================] - 5s 236ms/step - loss: 0.2040 - accuracy: 0.9340 - val_loss: 1.9454 - val_accuracy: 0.6140\n",
      "Epoch 34/50\n",
      "22/22 [==============================] - 5s 231ms/step - loss: 0.1252 - accuracy: 0.9589 - val_loss: 2.2209 - val_accuracy: 0.6257\n",
      "Epoch 35/50\n",
      "22/22 [==============================] - 6s 267ms/step - loss: 0.1060 - accuracy: 0.9663 - val_loss: 1.8860 - val_accuracy: 0.6433\n"
     ]
    }
   ],
   "source": [
    "checkpoint_2 = tf.keras.callbacks.ModelCheckpoint(\"checkpoints_2\",save_weights_only=True)\n",
    "early_stopping = tf.keras.callbacks.EarlyStopping(patience=10,restore_best_weights=True)\n",
    "model2.compile(loss=\"sparse_categorical_crossentropy\", optimizer=\"nadam\",\n",
    "              metrics=[\"accuracy\"])\n",
    "history = model2.fit(X_train, y_train, epochs=50,\n",
    "                    validation_data=(X_valid, y_valid),callbacks=[checkpoint_2,early_stopping])"
   ]
  },
  {
   "cell_type": "code",
   "execution_count": 22,
   "id": "52d4f6e2",
   "metadata": {
    "execution": {
     "iopub.execute_input": "2023-11-22T14:46:33.240526Z",
     "iopub.status.busy": "2023-11-22T14:46:33.239594Z",
     "iopub.status.idle": "2023-11-22T14:47:27.668669Z",
     "shell.execute_reply": "2023-11-22T14:47:27.667861Z"
    },
    "papermill": {
     "duration": 54.549964,
     "end_time": "2023-11-22T14:47:27.671081",
     "exception": false,
     "start_time": "2023-11-22T14:46:33.121117",
     "status": "completed"
    },
    "tags": []
   },
   "outputs": [],
   "source": [
    "tf.random.set_seed(42)\n",
    "tf.keras.backend.clear_session()\n",
    "\n",
    "model3 = tf.keras.Sequential([\n",
    "    DefaultConv2D(64, kernel_size=7, strides=2, input_shape=[224,224, 3]),\n",
    "    tf.keras.layers.BatchNormalization(),\n",
    "    tf.keras.layers.Activation(\"relu\"),\n",
    "    tf.keras.layers.MaxPool2D(pool_size=3, strides=2, padding=\"same\"),\n",
    "])\n",
    "\n",
    "residual_blocks = [3, 4, 6, 3]  # ResNet-50 configuration\n",
    "\n",
    "prev_filters = 64\n",
    "for filters, blocks in zip([64, 128, 256, 512], residual_blocks):\n",
    "    for _ in range(blocks):\n",
    "        if filters != prev_filters:\n",
    "            strides = 2\n",
    "        else:\n",
    "            strides = 1\n",
    "        model3.add(ResidualUnit(filters, strides=strides))\n",
    "        prev_filters = filters\n",
    "\n",
    "model3.add(tf.keras.layers.GlobalAveragePooling2D())\n",
    "model3.add(tf.keras.layers.Dense(6, activation=\"softmax\"))"
   ]
  },
  {
   "cell_type": "code",
   "execution_count": 23,
   "id": "d4246c35",
   "metadata": {
    "execution": {
     "iopub.execute_input": "2023-11-22T14:47:27.902601Z",
     "iopub.status.busy": "2023-11-22T14:47:27.902233Z",
     "iopub.status.idle": "2023-11-22T14:50:28.493076Z",
     "shell.execute_reply": "2023-11-22T14:50:28.491688Z"
    },
    "papermill": {
     "duration": 180.706529,
     "end_time": "2023-11-22T14:50:28.495487",
     "exception": false,
     "start_time": "2023-11-22T14:47:27.788958",
     "status": "completed"
    },
    "tags": []
   },
   "outputs": [
    {
     "name": "stdout",
     "output_type": "stream",
     "text": [
      "Epoch 1/50\n",
      "22/22 [==============================] - 30s 272ms/step - loss: 3.1450 - accuracy: 0.2551 - val_loss: 432993.2500 - val_accuracy: 0.1404\n",
      "Epoch 2/50\n",
      "22/22 [==============================] - 5s 235ms/step - loss: 1.4496 - accuracy: 0.4282 - val_loss: 28092.6250 - val_accuracy: 0.1404\n",
      "Epoch 3/50\n",
      "22/22 [==============================] - 5s 238ms/step - loss: 1.2011 - accuracy: 0.5220 - val_loss: 2585.9421 - val_accuracy: 0.1404\n",
      "Epoch 4/50\n",
      "22/22 [==============================] - 6s 269ms/step - loss: 1.0267 - accuracy: 0.6085 - val_loss: 134.3838 - val_accuracy: 0.1404\n",
      "Epoch 5/50\n",
      "22/22 [==============================] - 5s 239ms/step - loss: 0.9452 - accuracy: 0.6716 - val_loss: 70.1450 - val_accuracy: 0.1345\n",
      "Epoch 6/50\n",
      "22/22 [==============================] - 6s 273ms/step - loss: 0.8339 - accuracy: 0.6877 - val_loss: 20.0165 - val_accuracy: 0.1754\n",
      "Epoch 7/50\n",
      "22/22 [==============================] - 5s 231ms/step - loss: 0.8040 - accuracy: 0.6686 - val_loss: 37.5583 - val_accuracy: 0.1404\n",
      "Epoch 8/50\n",
      "22/22 [==============================] - 6s 265ms/step - loss: 0.7691 - accuracy: 0.7067 - val_loss: 17.4973 - val_accuracy: 0.1871\n",
      "Epoch 9/50\n",
      "22/22 [==============================] - 5s 253ms/step - loss: 0.6491 - accuracy: 0.7669 - val_loss: 6.0053 - val_accuracy: 0.3450\n",
      "Epoch 10/50\n",
      "22/22 [==============================] - 6s 261ms/step - loss: 0.6305 - accuracy: 0.7551 - val_loss: 17.1382 - val_accuracy: 0.2105\n",
      "Epoch 11/50\n",
      "22/22 [==============================] - 5s 229ms/step - loss: 0.5661 - accuracy: 0.7903 - val_loss: 9.7897 - val_accuracy: 0.3275\n",
      "Epoch 12/50\n",
      "22/22 [==============================] - 6s 265ms/step - loss: 0.4657 - accuracy: 0.8255 - val_loss: 3.0892 - val_accuracy: 0.5263\n",
      "Epoch 13/50\n",
      "22/22 [==============================] - 5s 230ms/step - loss: 0.5333 - accuracy: 0.8035 - val_loss: 14.0373 - val_accuracy: 0.1930\n",
      "Epoch 14/50\n",
      "22/22 [==============================] - 6s 261ms/step - loss: 0.4557 - accuracy: 0.8343 - val_loss: 4.0355 - val_accuracy: 0.3860\n",
      "Epoch 15/50\n",
      "22/22 [==============================] - 5s 233ms/step - loss: 0.3400 - accuracy: 0.8798 - val_loss: 3.8859 - val_accuracy: 0.4094\n",
      "Epoch 16/50\n",
      "22/22 [==============================] - 6s 264ms/step - loss: 0.5593 - accuracy: 0.8226 - val_loss: 19.5048 - val_accuracy: 0.2281\n",
      "Epoch 17/50\n",
      "22/22 [==============================] - 5s 244ms/step - loss: 0.3665 - accuracy: 0.8666 - val_loss: 2.5981 - val_accuracy: 0.4386\n",
      "Epoch 18/50\n",
      "22/22 [==============================] - 5s 242ms/step - loss: 0.3752 - accuracy: 0.8710 - val_loss: 11.4169 - val_accuracy: 0.2515\n",
      "Epoch 19/50\n",
      "22/22 [==============================] - 5s 246ms/step - loss: 0.2275 - accuracy: 0.9135 - val_loss: 1.5269 - val_accuracy: 0.6608\n",
      "Epoch 20/50\n",
      "22/22 [==============================] - 5s 244ms/step - loss: 0.3795 - accuracy: 0.8666 - val_loss: 5.3995 - val_accuracy: 0.3567\n",
      "Epoch 21/50\n",
      "22/22 [==============================] - 5s 236ms/step - loss: 0.3961 - accuracy: 0.8387 - val_loss: 2.2278 - val_accuracy: 0.6023\n",
      "Epoch 22/50\n",
      "22/22 [==============================] - 6s 263ms/step - loss: 0.2397 - accuracy: 0.9252 - val_loss: 1.9483 - val_accuracy: 0.5556\n",
      "Epoch 23/50\n",
      "22/22 [==============================] - 5s 245ms/step - loss: 0.2731 - accuracy: 0.8900 - val_loss: 4.9829 - val_accuracy: 0.4035\n",
      "Epoch 24/50\n",
      "22/22 [==============================] - 5s 241ms/step - loss: 0.2808 - accuracy: 0.8959 - val_loss: 2.2122 - val_accuracy: 0.5439\n",
      "Epoch 25/50\n",
      "22/22 [==============================] - 5s 241ms/step - loss: 0.2960 - accuracy: 0.9003 - val_loss: 1.6842 - val_accuracy: 0.6608\n",
      "Epoch 26/50\n",
      "22/22 [==============================] - 5s 239ms/step - loss: 0.1561 - accuracy: 0.9531 - val_loss: 4.1546 - val_accuracy: 0.5731\n",
      "Epoch 27/50\n",
      "22/22 [==============================] - 5s 231ms/step - loss: 0.2163 - accuracy: 0.9208 - val_loss: 3.2660 - val_accuracy: 0.5088\n",
      "Epoch 28/50\n",
      "22/22 [==============================] - 6s 262ms/step - loss: 0.3649 - accuracy: 0.8754 - val_loss: 4.6557 - val_accuracy: 0.4035\n",
      "Epoch 29/50\n",
      "22/22 [==============================] - 5s 246ms/step - loss: 0.2158 - accuracy: 0.9282 - val_loss: 4.7057 - val_accuracy: 0.4561\n"
     ]
    }
   ],
   "source": [
    "checkpoint_3 = tf.keras.callbacks.ModelCheckpoint(\"checkpoints_3\",save_weights_only=True)\n",
    "early_stopping = tf.keras.callbacks.EarlyStopping(patience=10,restore_best_weights=True)\n",
    "model3.compile(loss=\"sparse_categorical_crossentropy\", optimizer=\"nadam\",\n",
    "              metrics=[\"accuracy\"])\n",
    "history = model3.fit(X_train, y_train, epochs=50,\n",
    "                    validation_data=(X_valid, y_valid),callbacks=[checkpoint_3,early_stopping])"
   ]
  }
 ],
 "metadata": {
  "kaggle": {
   "accelerator": "nvidiaTeslaT4",
   "dataSources": [
    {
     "datasetId": 3893117,
     "sourceId": 6800124,
     "sourceType": "datasetVersion"
    }
   ],
   "dockerImageVersionId": 30588,
   "isGpuEnabled": true,
   "isInternetEnabled": true,
   "language": "python",
   "sourceType": "notebook"
  },
  "kernelspec": {
   "display_name": "Python 3",
   "language": "python",
   "name": "python3"
  },
  "language_info": {
   "codemirror_mode": {
    "name": "ipython",
    "version": 3
   },
   "file_extension": ".py",
   "mimetype": "text/x-python",
   "name": "python",
   "nbconvert_exporter": "python",
   "pygments_lexer": "ipython3",
   "version": "3.10.12"
  },
  "papermill": {
   "default_parameters": {},
   "duration": 612.936358,
   "end_time": "2023-11-22T14:50:32.583903",
   "environment_variables": {},
   "exception": null,
   "input_path": "__notebook__.ipynb",
   "output_path": "__notebook__.ipynb",
   "parameters": {},
   "start_time": "2023-11-22T14:40:19.647545",
   "version": "2.4.0"
  }
 },
 "nbformat": 4,
 "nbformat_minor": 5
}
